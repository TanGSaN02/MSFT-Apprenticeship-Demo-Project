{
 "cells": [
  {
   "cell_type": "code",
   "execution_count": 0,
   "metadata": {
    "application/vnd.databricks.v1+cell": {
     "cellMetadata": {
      "byteLimit": 2048000,
      "rowLimit": 10000
     },
     "inputWidgets": {},
     "nuid": "7d59325a-dd3a-490b-bca9-86bc61582785",
     "showTitle": false,
     "tableResultSettingsMap": {},
     "title": ""
    }
   },
   "outputs": [],
   "source": [
    "scopes = dbutils.secrets.listScopes()\n",
    "display(scopes)\n"
   ]
  },
  {
   "cell_type": "markdown",
   "metadata": {
    "application/vnd.databricks.v1+cell": {
     "cellMetadata": {},
     "inputWidgets": {},
     "nuid": "b4781efd-5c69-4fa6-9b1b-8ec7e6b1c533",
     "showTitle": false,
     "tableResultSettingsMap": {},
     "title": ""
    }
   },
   "source": [
    "Connecting ADLS account with Data bricks using Service principal and Azure Key Vault"
   ]
  },
  {
   "cell_type": "code",
   "execution_count": 0,
   "metadata": {
    "application/vnd.databricks.v1+cell": {
     "cellMetadata": {
      "byteLimit": 2048000,
      "rowLimit": 10000
     },
     "inputWidgets": {},
     "nuid": "05389c86-30c3-4388-8ab4-0b087f090a94",
     "showTitle": false,
     "tableResultSettingsMap": {},
     "title": ""
    }
   },
   "outputs": [],
   "source": [
    "# Define variables for your ADLS account, container, and file path\n",
    "adls_account_name = \"aprdemoadls\"\n",
    "adls_container_name = \"bronze\"\n",
    "adls_file_path=\"Transactions 2\"\n",
    "\n",
    "# Define variables for your service principal and Key Vault\n",
    "tenant_id = dbutils.secrets.get(scope=\"keyvaultscopeap\", key=\"tenantid\")\n",
    "client_id = dbutils.secrets.get(scope=\"keyvaultscopeap\", key=\"clientid\")\n",
    "client_secret = dbutils.secrets.get(scope=\"keyvaultscopeap\", key=\"secret\")\n",
    "\n",
    "# Set up the configuration for accessing ADLS\n",
    "spark.conf.set(\"fs.azure.account.auth.type.\" + adls_account_name + \".dfs.core.windows.net\", \"OAuth\")\n",
    "spark.conf.set(\"fs.azure.account.oauth.provider.type.\" + adls_account_name + \".dfs.core.windows.net\", \"org.apache.hadoop.fs.azurebfs.oauth2.ClientCredsTokenProvider\")\n",
    "spark.conf.set(\"fs.azure.account.oauth2.client.id.\" + adls_account_name + \".dfs.core.windows.net\", client_id)\n",
    "spark.conf.set(\"fs.azure.account.oauth2.client.secret.\" + adls_account_name + \".dfs.core.windows.net\", client_secret)\n",
    "spark.conf.set(\"fs.azure.account.oauth2.client.endpoint.\" + adls_account_name + \".dfs.core.windows.net\", \"https://login.microsoftonline.com/\" + tenant_id + \"/oauth2/token\")\n",
    "\n",
    "# Access the file in the bronze container\n",
    "file_path = f\"abfss://{adls_container_name}@{adls_account_name}.dfs.core.windows.net/{adls_file_path}.csv\"\n",
    "df = spark.read.format(\"csv\").option(\"header\", \"true\").load(file_path)\n",
    "\n",
    "# Show the data\n",
    "display(df)\n"
   ]
  },
  {
   "cell_type": "markdown",
   "metadata": {
    "application/vnd.databricks.v1+cell": {
     "cellMetadata": {},
     "inputWidgets": {},
     "nuid": "1eae87f8-3045-48a4-ba6d-df657f447b4e",
     "showTitle": false,
     "tableResultSettingsMap": {},
     "title": ""
    }
   },
   "source": [
    "**Checking for Null Values**"
   ]
  },
  {
   "cell_type": "code",
   "execution_count": 0,
   "metadata": {
    "application/vnd.databricks.v1+cell": {
     "cellMetadata": {
      "byteLimit": 2048000,
      "rowLimit": 10000
     },
     "inputWidgets": {},
     "nuid": "c630ffa2-d2d3-4b00-bfac-d23e214e095e",
     "showTitle": false,
     "tableResultSettingsMap": {},
     "title": ""
    }
   },
   "outputs": [],
   "source": [
    "from pyspark.sql.functions import col, sum\n",
    "\n",
    "# Check for null values in each column\n",
    "null_counts = df.select([sum(col(c).isNull().cast(\"int\")).alias(c) for c in df.columns])\n",
    "\n",
    "# Display the null counts\n",
    "display(null_counts)"
   ]
  },
  {
   "cell_type": "markdown",
   "metadata": {
    "application/vnd.databricks.v1+cell": {
     "cellMetadata": {},
     "inputWidgets": {},
     "nuid": "560ae0b4-ca62-4e44-8071-9f9e9d9a94d7",
     "showTitle": false,
     "tableResultSettingsMap": {},
     "title": ""
    }
   },
   "source": [
    "Checking for Duplicate values in the data"
   ]
  },
  {
   "cell_type": "code",
   "execution_count": 0,
   "metadata": {
    "application/vnd.databricks.v1+cell": {
     "cellMetadata": {
      "byteLimit": 2048000,
      "rowLimit": 10000
     },
     "inputWidgets": {},
     "nuid": "f6f68371-e887-494c-a48b-7247df46637d",
     "showTitle": false,
     "tableResultSettingsMap": {},
     "title": ""
    }
   },
   "outputs": [],
   "source": [
    "# Check for duplicate values in the data\n",
    "duplicate_count = df.groupBy(df.columns).count().filter(col(\"count\") > 1).count()\n",
    "\n",
    "# Display the duplicate count\n",
    "display(spark.createDataFrame([(duplicate_count,)], [\"duplicate_count\"]))"
   ]
  },
  {
   "cell_type": "markdown",
   "metadata": {
    "application/vnd.databricks.v1+cell": {
     "cellMetadata": {},
     "inputWidgets": {},
     "nuid": "c96163c5-36c2-4437-a87b-9a554edee522",
     "showTitle": false,
     "tableResultSettingsMap": {},
     "title": ""
    }
   },
   "source": [
    "Storing the preprocessed data as a parquet file in Silver Layer"
   ]
  },
  {
   "cell_type": "code",
   "execution_count": 0,
   "metadata": {
    "application/vnd.databricks.v1+cell": {
     "cellMetadata": {
      "byteLimit": 2048000,
      "rowLimit": 10000
     },
     "inputWidgets": {},
     "nuid": "53c734a2-cc41-4946-a964-671e8e2a9ad2",
     "showTitle": false,
     "tableResultSettingsMap": {},
     "title": ""
    }
   },
   "outputs": [],
   "source": [
    "adls_account_name = \"aprdemoadls\"\n",
    "adls_container_name = \"silver\"\n",
    "adls_file_name = \"transactions.parquet\"\n",
    "\n",
    "# Define the file path for saving the data\n",
    "save_path = f\"abfss://{adls_container_name}@{adls_account_name}.dfs.core.windows.net/{adls_file_name}\"\n",
    "df.write.mode(\"overwrite\").parquet(save_path)\n",
    "\n",
    "print(f\"Data saved to {save_path}\")\n"
   ]
  },
  {
   "cell_type": "code",
   "execution_count": 0,
   "metadata": {
    "application/vnd.databricks.v1+cell": {
     "cellMetadata": {
      "byteLimit": 2048000,
      "rowLimit": 10000
     },
     "inputWidgets": {},
     "nuid": "61eaa15f-5285-4a6e-8aaa-a74f09868c60",
     "showTitle": false,
     "tableResultSettingsMap": {},
     "title": ""
    }
   },
   "outputs": [],
   "source": [
    "adls_account_name = \"aprdemoadls\"\n",
    "adls_container_name = \"silver\"\n",
    "adls_file_name = \"transactions.csv\"\n",
    "\n",
    "# Define the file path for saving the data\n",
    "save_path = f\"abfss://{adls_container_name}@{adls_account_name}.dfs.core.windows.net/{adls_file_name}\"\n",
    "df.write.mode(\"overwrite\").csv(save_path)\n",
    "\n",
    "print(f\"Data saved to {save_path}\")"
   ]
  }
 ],
 "metadata": {
  "application/vnd.databricks.v1+notebook": {
   "computePreferences": null,
   "dashboards": [],
   "environmentMetadata": {
    "base_environment": "",
    "environment_version": "2"
   },
   "inputWidgetPreferences": null,
   "language": "python",
   "notebookMetadata": {
    "pythonIndentUnit": 4
   },
   "notebookName": "Transactions notebook",
   "widgets": {}
  },
  "language_info": {
   "name": "python"
  }
 },
 "nbformat": 4,
 "nbformat_minor": 0
}
