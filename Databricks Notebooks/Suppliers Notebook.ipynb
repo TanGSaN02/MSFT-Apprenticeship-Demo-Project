{
 "cells": [
  {
   "cell_type": "code",
   "execution_count": 0,
   "metadata": {
    "application/vnd.databricks.v1+cell": {
     "cellMetadata": {
      "byteLimit": 2048000,
      "rowLimit": 10000
     },
     "inputWidgets": {},
     "nuid": "74f7e97d-1c17-44c3-b535-574909e73c3d",
     "showTitle": false,
     "tableResultSettingsMap": {},
     "title": ""
    }
   },
   "outputs": [],
   "source": [
    "# Step 1: Retrieve secrets from Azure Key Vault\n",
    "scope_name = \"keyvaultscopeap\"\n",
    "client_id = dbutils.secrets.get(scope=scope_name, key=\"clientid\")\n",
    "tenant_id = dbutils.secrets.get(scope=scope_name, key=\"tenantid\")\n",
    "client_secret = dbutils.secrets.get(scope=scope_name, key=\"secret\")\n",
    "\n",
    "# Step 2: Set Spark configurations to access ADLS\n",
    "storage_account_name = \"aprdemoadls\"\n",
    "container_name = \"bronze\"\n",
    "spark.conf.set(f\"fs.azure.account.auth.type.{storage_account_name}.dfs.core.windows.net\", \"OAuth\")\n",
    "spark.conf.set(f\"fs.azure.account.oauth.provider.type.{storage_account_name}.dfs.core.windows.net\", \"org.apache.hadoop.fs.azurebfs.oauth2.ClientCredsTokenProvider\")\n",
    "spark.conf.set(f\"fs.azure.account.oauth2.client.id.{storage_account_name}.dfs.core.windows.net\", client_id)\n",
    "spark.conf.set(f\"fs.azure.account.oauth2.client.secret.{storage_account_name}.dfs.core.windows.net\", client_secret)\n",
    "spark.conf.set(f\"fs.azure.account.oauth2.client.endpoint.{storage_account_name}.dfs.core.windows.net\", f\"https://login.microsoftonline.com/{tenant_id}/oauth2/token\")\n",
    "\n",
    "# Access the data\n",
    "df = spark.read.csv(f\"abfss://{container_name}@{storage_account_name}.dfs.core.windows.net/Suppliers 2.csv\", header=True, inferSchema=True)\n",
    "display(df)"
   ]
  },
  {
   "cell_type": "code",
   "execution_count": 0,
   "metadata": {
    "application/vnd.databricks.v1+cell": {
     "cellMetadata": {
      "byteLimit": 2048000,
      "rowLimit": 10000
     },
     "inputWidgets": {},
     "nuid": "ddc5a33a-fa9c-48a7-a3e1-204984b860d1",
     "showTitle": false,
     "tableResultSettingsMap": {},
     "title": ""
    }
   },
   "outputs": [],
   "source": [
    "from pyspark.sql import SparkSession\n",
    "from pyspark.sql.functions import col, regexp_replace, when, initcap, udf\n",
    "from pyspark.sql.types import StringType\n",
    "import re\n",
    "\n",
    "# Initialize Spark session\n",
    "spark = SparkSession.builder.appName(\"SuppliersCleaning\").getOrCreate()\n",
    "\n",
    "# Define your container name and storage account name\n",
    "container_name = \"bronze\"\n",
    "storage_account_name = \"aprdemoadls\"\n",
    "\n",
    "# Read the CSV file into a DataFrame\n",
    "df = spark.read.csv(f\"abfss://{container_name}@{storage_account_name}.dfs.core.windows.net/Suppliers 2.csv\", header=True, inferSchema=True)\n",
    "\n",
    "# Remove null values\n",
    "df = df.dropna()\n",
    "\n",
    "# Remove duplicates based on SupplierID\n",
    "df = df.dropDuplicates([\"SupplierID\"])\n",
    "\n",
    "# Define UDF to preprocess contact numbers\n",
    "def preprocess_contact_number(number):\n",
    "    # Remove any non-digit characters\n",
    "    number = re.sub(r'\\D', '', number)\n",
    "    # Format the number to standard format with '-'\n",
    "    if len(number) == 10:\n",
    "        return f\"+1-{number[:3]}-{number[3:6]}-{number[6:]}\"\n",
    "    elif len(number) > 10:\n",
    "        return f\"+1-{number[1:4]}-{number[4:7]}-{number[7:11]}\"\n",
    "    else:\n",
    "        return number\n",
    "\n",
    "# Register the function as a UDF\n",
    "preprocess_contact_number_udf = udf(preprocess_contact_number, StringType())\n",
    "\n",
    "# Apply the UDF to the ContactNumber column\n",
    "df = df.withColumn(\"ContactNumber\", preprocess_contact_number_udf(col(\"ContactNumber\")))\n",
    "\n",
    "# Validate Email addresses (simple regex check)\n",
    "df = df.filter(col(\"Email\").rlike(\"^[a-zA-Z0-9._%+-]+@[a-zA-Z0-9.-]+\\\\.[a-zA-Z]{2,}$\"))\n",
    "\n",
    "# Standardize City names using initcap (capitalize first letter of each word)\n",
    "df = df.withColumn(\"City\", initcap(col(\"City\")))\n",
    "df=df.sort(\"SupplierID\")\n",
    "df.show()\n",
    "# Show the cleaned data\n",
    "\n"
   ]
  },
  {
   "cell_type": "code",
   "execution_count": 0,
   "metadata": {
    "application/vnd.databricks.v1+cell": {
     "cellMetadata": {
      "byteLimit": 2048000,
      "rowLimit": 10000
     },
     "inputWidgets": {},
     "nuid": "f0946431-0eda-4a9f-b7af-98973879c0a2",
     "showTitle": false,
     "tableResultSettingsMap": {},
     "title": ""
    }
   },
   "outputs": [],
   "source": [
    "city_counts = df.groupBy(\"City\").count()\n",
    "city_counts.show()\n"
   ]
  },
  {
   "cell_type": "code",
   "execution_count": 0,
   "metadata": {
    "application/vnd.databricks.v1+cell": {
     "cellMetadata": {
      "byteLimit": 2048000,
      "rowLimit": 10000
     },
     "inputWidgets": {},
     "nuid": "8f8ff82d-ece6-49ed-af1e-0ce17ee4598c",
     "showTitle": false,
     "tableResultSettingsMap": {},
     "title": ""
    }
   },
   "outputs": [],
   "source": [
    "from pyspark.sql.functions import avg\n",
    "avg_suppliers_per_city = city_counts.agg(avg(\"count\"))\n",
    "avg_suppliers_per_city.show()\n"
   ]
  },
  {
   "cell_type": "code",
   "execution_count": 0,
   "metadata": {
    "application/vnd.databricks.v1+cell": {
     "cellMetadata": {
      "byteLimit": 2048000,
      "rowLimit": 10000
     },
     "inputWidgets": {},
     "nuid": "9442ed5d-54fe-4b7b-91c4-c7d44d2592f1",
     "showTitle": false,
     "tableResultSettingsMap": {},
     "title": ""
    }
   },
   "outputs": [],
   "source": [
    "%python\n",
    "# Save the cleaned DataFrame to a single Parquet file\n",
    "output_path2 = \"abfss://silver@aprdemoadls.dfs.core.windows.net/suppliers.parquet\"\n",
    "temp_output_path = \"abfss://silver@aprdemoadls.dfs.core.windows.net/tsuppliers.parquet\"\n",
    "\n",
    "# Write the DataFrame to a temporary path\n",
    "df.coalesce(1).write.mode(\"overwrite\").parquet(temp_output_path)\n",
    "\n",
    "# List the files in the temporary directory\n",
    "files = dbutils.fs.ls(temp_output_path)\n",
    "\n",
    "# Find the part file\n",
    "part_file = [file.path for file in files if file.path.endswith(\".parquet\")][0]\n",
    "\n",
    "# Rename the part file to the desired output path\n",
    "dbutils.fs.mv(part_file, output_path2 + \"/suppliers.parquet\", True)\n",
    "\n",
    "# Remove the temporary directory\n",
    "dbutils.fs.rm(temp_output_path, True)"
   ]
  },
  {
   "cell_type": "code",
   "execution_count": 0,
   "metadata": {
    "application/vnd.databricks.v1+cell": {
     "cellMetadata": {},
     "inputWidgets": {},
     "nuid": "848f6a7f-45cf-4350-8bcc-a27b7c098638",
     "showTitle": false,
     "tableResultSettingsMap": {},
     "title": ""
    }
   },
   "outputs": [],
   "source": []
  }
 ],
 "metadata": {
  "application/vnd.databricks.v1+notebook": {
   "computePreferences": null,
   "dashboards": [],
   "environmentMetadata": {
    "base_environment": "",
    "environment_version": "2"
   },
   "inputWidgetPreferences": null,
   "language": "python",
   "notebookMetadata": {
    "pythonIndentUnit": 4
   },
   "notebookName": "Suppliers Notebook",
   "widgets": {}
  },
  "language_info": {
   "name": "python"
  }
 },
 "nbformat": 4,
 "nbformat_minor": 0
}
