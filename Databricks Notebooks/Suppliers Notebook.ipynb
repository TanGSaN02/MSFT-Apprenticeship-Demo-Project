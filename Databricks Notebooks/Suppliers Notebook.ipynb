{
 "cells": [
  {
   "cell_type": "code",
   "execution_count": 0,
   "metadata": {
    "application/vnd.databricks.v1+cell": {
     "cellMetadata": {
      "byteLimit": 2048000,
      "rowLimit": 10000
     },
     "inputWidgets": {},
     "nuid": "1122fa90-b6ee-4147-aabe-b63799561b21",
     "showTitle": false,
     "tableResultSettingsMap": {},
     "title": ""
    }
   },
   "outputs": [],
   "source": [
    "dbutils.secrets.listScopes()"
   ]
  },
  {
   "cell_type": "code",
   "execution_count": 0,
   "metadata": {
    "application/vnd.databricks.v1+cell": {
     "cellMetadata": {},
     "inputWidgets": {},
     "nuid": "d63577ee-4218-4ce4-a62c-61ef13df2d51",
     "showTitle": false,
     "tableResultSettingsMap": {},
     "title": ""
    }
   },
   "outputs": [],
   "source": []
  },
  {
   "cell_type": "code",
   "execution_count": 0,
   "metadata": {
    "application/vnd.databricks.v1+cell": {
     "cellMetadata": {
      "byteLimit": 2048000,
      "rowLimit": 10000
     },
     "inputWidgets": {},
     "nuid": "74f7e97d-1c17-44c3-b535-574909e73c3d",
     "showTitle": false,
     "tableResultSettingsMap": {},
     "title": ""
    }
   },
   "outputs": [],
   "source": [
    "# Step 1: Retrieve secrets from Azure Key Vault\n",
    "scope_name = \"keyvaultscopeap\"\n",
    "client_id = dbutils.secrets.get(scope=scope_name, key=\"clientid\")\n",
    "tenant_id = dbutils.secrets.get(scope=scope_name, key=\"tenantid\")\n",
    "client_secret = dbutils.secrets.get(scope=scope_name, key=\"secret\")\n",
    "\n",
    "# Step 2: Set Spark configurations to access ADLS\n",
    "storage_account_name = \"aprdemoadls\"\n",
    "container_name = \"bronze\"\n",
    "spark.conf.set(f\"fs.azure.account.auth.type.{storage_account_name}.dfs.core.windows.net\", \"OAuth\")\n",
    "spark.conf.set(f\"fs.azure.account.oauth.provider.type.{storage_account_name}.dfs.core.windows.net\", \"org.apache.hadoop.fs.azurebfs.oauth2.ClientCredsTokenProvider\")\n",
    "spark.conf.set(f\"fs.azure.account.oauth2.client.id.{storage_account_name}.dfs.core.windows.net\", client_id)\n",
    "spark.conf.set(f\"fs.azure.account.oauth2.client.secret.{storage_account_name}.dfs.core.windows.net\", client_secret)\n",
    "spark.conf.set(f\"fs.azure.account.oauth2.client.endpoint.{storage_account_name}.dfs.core.windows.net\", f\"https://login.microsoftonline.com/{tenant_id}/oauth2/token\")\n",
    "\n",
    "# Access the data\n",
    "df = spark.read.csv(f\"abfss://{container_name}@{storage_account_name}.dfs.core.windows.net/Suppliers 2.csv\", header=True, inferSchema=True)\n",
    "display(df)"
   ]
  },
  {
   "cell_type": "code",
   "execution_count": 0,
   "metadata": {
    "application/vnd.databricks.v1+cell": {
     "cellMetadata": {
      "byteLimit": 2048000,
      "rowLimit": 10000
     },
     "inputWidgets": {},
     "nuid": "ddc5a33a-fa9c-48a7-a3e1-204984b860d1",
     "showTitle": false,
     "tableResultSettingsMap": {},
     "title": ""
    }
   },
   "outputs": [],
   "source": [
    "from pyspark.sql import SparkSession\n",
    "from pyspark.sql.functions import col, regexp_replace, when, initcap, udf\n",
    "from pyspark.sql.types import StringType\n",
    "import re\n",
    "\n",
    "# Initialize Spark session\n",
    "spark = SparkSession.builder.appName(\"SuppliersCleaning\").getOrCreate()\n",
    "\n",
    "# Define your container name and storage account name\n",
    "container_name = \"bronze\"\n",
    "storage_account_name = \"aprdemoadls\"\n",
    "\n",
    "# Read the CSV file into a DataFrame\n",
    "df = spark.read.csv(f\"abfss://{container_name}@{storage_account_name}.dfs.core.windows.net/Suppliers 2.csv\", header=True, inferSchema=True)\n",
    "\n",
    "# Remove null values\n",
    "df = df.dropna()\n",
    "\n",
    "# Remove duplicates based on SupplierID\n",
    "df = df.dropDuplicates([\"SupplierID\"])\n",
    "\n",
    "# Define UDF to preprocess contact numbers\n",
    "def preprocess_contact_number(number):\n",
    "    # Remove any non-digit characters\n",
    "    number = re.sub(r'\\D', '', number)\n",
    "    # Format the number to standard format with '-'\n",
    "    if len(number) == 10:\n",
    "        return f\"+1-{number[:3]}-{number[3:6]}-{number[6:]}\"\n",
    "    elif len(number) > 10:\n",
    "        return f\"+1-{number[1:4]}-{number[4:7]}-{number[7:11]}\"\n",
    "    else:\n",
    "        return number\n",
    "\n",
    "# Register the function as a UDF\n",
    "preprocess_contact_number_udf = udf(preprocess_contact_number, StringType())\n",
    "\n",
    "# Apply the UDF to the ContactNumber column\n",
    "df = df.withColumn(\"ContactNumber\", preprocess_contact_number_udf(col(\"ContactNumber\")))\n",
    "\n",
    "# Validate Email addresses (simple regex check)\n",
    "df = df.filter(col(\"Email\").rlike(\"^[a-zA-Z0-9._%+-]+@[a-zA-Z0-9.-]+\\\\.[a-zA-Z]{2,}$\"))\n",
    "\n",
    "# Standardize City names using initcap (capitalize first letter of each word)\n",
    "df = df.withColumn(\"City\", initcap(col(\"City\")))\n",
    "\n",
    "# Show the cleaned data\n",
    "df.show()\n",
    "\n",
    "# Write the cleaned data to the silver layer in Parquet format with overwrite mode\n",
    "df.write.mode('overwrite').parquet(f\"abfss://silver@{storage_account_name}.dfs.core.windows.net/Suppliers.parquet\")\n",
    "\n",
    "print(\"Data cleaned and saved to Parquet format successfully.\")\n"
   ]
  }
 ],
 "metadata": {
  "application/vnd.databricks.v1+notebook": {
   "computePreferences": null,
   "dashboards": [],
   "environmentMetadata": {
    "base_environment": "",
    "environment_version": "2"
   },
   "inputWidgetPreferences": null,
   "language": "python",
   "notebookMetadata": {
    "pythonIndentUnit": 4
   },
   "notebookName": "Suppliers Notebook",
   "widgets": {}
  },
  "language_info": {
   "name": "python"
  }
 },
 "nbformat": 4,
 "nbformat_minor": 0
}
